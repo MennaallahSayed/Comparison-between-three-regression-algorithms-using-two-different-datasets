{
  "nbformat": 4,
  "nbformat_minor": 0,
  "metadata": {
    "colab": {
      "name": "Untitled9.ipynb",
      "provenance": [],
      "toc_visible": true
    },
    "kernelspec": {
      "name": "python3",
      "display_name": "Python 3"
    },
    "language_info": {
      "name": "python"
    }
  },
  "cells": [
    {
      "cell_type": "markdown",
      "metadata": {
        "id": "52wLpKSMRAnj"
      },
      "source": [
        "# Discovering and Preparing The Dataset"
      ]
    },
    {
      "cell_type": "code",
      "metadata": {
        "id": "trCSt3oZHGto"
      },
      "source": [
        "import pandas as pd  #to read the dataframe\n",
        "import time  #to measure time\n",
        "import matplotlib.pyplot as plt #to plot figures "
      ],
      "execution_count": 1,
      "outputs": []
    },
    {
      "cell_type": "code",
      "metadata": {
        "id": "kfV46JkbI3FZ"
      },
      "source": [
        "df_with_description = pd.read_excel('Concrete_Data.xls')"
      ],
      "execution_count": 2,
      "outputs": []
    },
    {
      "cell_type": "code",
      "metadata": {
        "colab": {
          "base_uri": "https://localhost:8080/",
          "height": 263
        },
        "id": "ovqiDJoSKAqq",
        "outputId": "4cba6442-d759-48ad-d436-09a34e868f3d"
      },
      "source": [
        "#show the head of the dataframe\n",
        "df_with_description.head()   "
      ],
      "execution_count": 3,
      "outputs": [
        {
          "output_type": "execute_result",
          "data": {
            "text/html": [
              "<div>\n",
              "<style scoped>\n",
              "    .dataframe tbody tr th:only-of-type {\n",
              "        vertical-align: middle;\n",
              "    }\n",
              "\n",
              "    .dataframe tbody tr th {\n",
              "        vertical-align: top;\n",
              "    }\n",
              "\n",
              "    .dataframe thead th {\n",
              "        text-align: right;\n",
              "    }\n",
              "</style>\n",
              "<table border=\"1\" class=\"dataframe\">\n",
              "  <thead>\n",
              "    <tr style=\"text-align: right;\">\n",
              "      <th></th>\n",
              "      <th>Cement (component 1)(kg in a m^3 mixture)</th>\n",
              "      <th>Blast Furnace Slag (component 2)(kg in a m^3 mixture)</th>\n",
              "      <th>Fly Ash (component 3)(kg in a m^3 mixture)</th>\n",
              "      <th>Water  (component 4)(kg in a m^3 mixture)</th>\n",
              "      <th>Superplasticizer (component 5)(kg in a m^3 mixture)</th>\n",
              "      <th>Coarse Aggregate  (component 6)(kg in a m^3 mixture)</th>\n",
              "      <th>Fine Aggregate (component 7)(kg in a m^3 mixture)</th>\n",
              "      <th>Age (day)</th>\n",
              "      <th>Concrete compressive strength(MPa, megapascals)</th>\n",
              "    </tr>\n",
              "  </thead>\n",
              "  <tbody>\n",
              "    <tr>\n",
              "      <th>0</th>\n",
              "      <td>540.0</td>\n",
              "      <td>0.0</td>\n",
              "      <td>0.0</td>\n",
              "      <td>162.0</td>\n",
              "      <td>2.5</td>\n",
              "      <td>1040.0</td>\n",
              "      <td>676.0</td>\n",
              "      <td>28</td>\n",
              "      <td>79.986111</td>\n",
              "    </tr>\n",
              "    <tr>\n",
              "      <th>1</th>\n",
              "      <td>540.0</td>\n",
              "      <td>0.0</td>\n",
              "      <td>0.0</td>\n",
              "      <td>162.0</td>\n",
              "      <td>2.5</td>\n",
              "      <td>1055.0</td>\n",
              "      <td>676.0</td>\n",
              "      <td>28</td>\n",
              "      <td>61.887366</td>\n",
              "    </tr>\n",
              "    <tr>\n",
              "      <th>2</th>\n",
              "      <td>332.5</td>\n",
              "      <td>142.5</td>\n",
              "      <td>0.0</td>\n",
              "      <td>228.0</td>\n",
              "      <td>0.0</td>\n",
              "      <td>932.0</td>\n",
              "      <td>594.0</td>\n",
              "      <td>270</td>\n",
              "      <td>40.269535</td>\n",
              "    </tr>\n",
              "    <tr>\n",
              "      <th>3</th>\n",
              "      <td>332.5</td>\n",
              "      <td>142.5</td>\n",
              "      <td>0.0</td>\n",
              "      <td>228.0</td>\n",
              "      <td>0.0</td>\n",
              "      <td>932.0</td>\n",
              "      <td>594.0</td>\n",
              "      <td>365</td>\n",
              "      <td>41.052780</td>\n",
              "    </tr>\n",
              "    <tr>\n",
              "      <th>4</th>\n",
              "      <td>198.6</td>\n",
              "      <td>132.4</td>\n",
              "      <td>0.0</td>\n",
              "      <td>192.0</td>\n",
              "      <td>0.0</td>\n",
              "      <td>978.4</td>\n",
              "      <td>825.5</td>\n",
              "      <td>360</td>\n",
              "      <td>44.296075</td>\n",
              "    </tr>\n",
              "  </tbody>\n",
              "</table>\n",
              "</div>"
            ],
            "text/plain": [
              "   Cement (component 1)(kg in a m^3 mixture)  ...  Concrete compressive strength(MPa, megapascals) \n",
              "0                                      540.0  ...                                         79.986111\n",
              "1                                      540.0  ...                                         61.887366\n",
              "2                                      332.5  ...                                         40.269535\n",
              "3                                      332.5  ...                                         41.052780\n",
              "4                                      198.6  ...                                         44.296075\n",
              "\n",
              "[5 rows x 9 columns]"
            ]
          },
          "metadata": {
            "tags": []
          },
          "execution_count": 3
        }
      ]
    },
    {
      "cell_type": "code",
      "metadata": {
        "colab": {
          "base_uri": "https://localhost:8080/",
          "height": 196
        },
        "id": "OmHMglJ23WSJ",
        "outputId": "04797456-b10e-438f-99bf-1c7641d4afaa"
      },
      "source": [
        "#rename the features \n",
        "df = df_with_description.copy()\n",
        "df = df.rename(columns = {'Cement (component 1)(kg in a m^3 mixture)' : 'X1'})\n",
        "df = df.rename(columns = {'Blast Furnace Slag (component 2)(kg in a m^3 mixture)' : 'X2'})\n",
        "df = df.rename(columns = {'Fly Ash (component 3)(kg in a m^3 mixture)' : 'X3'})\n",
        "df = df.rename(columns = {'Water  (component 4)(kg in a m^3 mixture)' : 'X4'})\n",
        "df = df.rename(columns = {'Superplasticizer (component 5)(kg in a m^3 mixture)': 'X5'})\n",
        "df = df.rename(columns = {'Coarse Aggregate  (component 6)(kg in a m^3 mixture)' : 'X6'})\n",
        "df = df.rename(columns = {'Fine Aggregate (component 7)(kg in a m^3 mixture)': 'X7'})\n",
        "df = df.rename(columns = {'Age (day)' : 'X8'})\n",
        "df = df.rename(columns = {'Concrete compressive strength(MPa, megapascals) ' : 'Y'})\n",
        "\n",
        "df.head()"
      ],
      "execution_count": 4,
      "outputs": [
        {
          "output_type": "execute_result",
          "data": {
            "text/html": [
              "<div>\n",
              "<style scoped>\n",
              "    .dataframe tbody tr th:only-of-type {\n",
              "        vertical-align: middle;\n",
              "    }\n",
              "\n",
              "    .dataframe tbody tr th {\n",
              "        vertical-align: top;\n",
              "    }\n",
              "\n",
              "    .dataframe thead th {\n",
              "        text-align: right;\n",
              "    }\n",
              "</style>\n",
              "<table border=\"1\" class=\"dataframe\">\n",
              "  <thead>\n",
              "    <tr style=\"text-align: right;\">\n",
              "      <th></th>\n",
              "      <th>X1</th>\n",
              "      <th>X2</th>\n",
              "      <th>X3</th>\n",
              "      <th>X4</th>\n",
              "      <th>X5</th>\n",
              "      <th>X6</th>\n",
              "      <th>X7</th>\n",
              "      <th>X8</th>\n",
              "      <th>Y</th>\n",
              "    </tr>\n",
              "  </thead>\n",
              "  <tbody>\n",
              "    <tr>\n",
              "      <th>0</th>\n",
              "      <td>540.0</td>\n",
              "      <td>0.0</td>\n",
              "      <td>0.0</td>\n",
              "      <td>162.0</td>\n",
              "      <td>2.5</td>\n",
              "      <td>1040.0</td>\n",
              "      <td>676.0</td>\n",
              "      <td>28</td>\n",
              "      <td>79.986111</td>\n",
              "    </tr>\n",
              "    <tr>\n",
              "      <th>1</th>\n",
              "      <td>540.0</td>\n",
              "      <td>0.0</td>\n",
              "      <td>0.0</td>\n",
              "      <td>162.0</td>\n",
              "      <td>2.5</td>\n",
              "      <td>1055.0</td>\n",
              "      <td>676.0</td>\n",
              "      <td>28</td>\n",
              "      <td>61.887366</td>\n",
              "    </tr>\n",
              "    <tr>\n",
              "      <th>2</th>\n",
              "      <td>332.5</td>\n",
              "      <td>142.5</td>\n",
              "      <td>0.0</td>\n",
              "      <td>228.0</td>\n",
              "      <td>0.0</td>\n",
              "      <td>932.0</td>\n",
              "      <td>594.0</td>\n",
              "      <td>270</td>\n",
              "      <td>40.269535</td>\n",
              "    </tr>\n",
              "    <tr>\n",
              "      <th>3</th>\n",
              "      <td>332.5</td>\n",
              "      <td>142.5</td>\n",
              "      <td>0.0</td>\n",
              "      <td>228.0</td>\n",
              "      <td>0.0</td>\n",
              "      <td>932.0</td>\n",
              "      <td>594.0</td>\n",
              "      <td>365</td>\n",
              "      <td>41.052780</td>\n",
              "    </tr>\n",
              "    <tr>\n",
              "      <th>4</th>\n",
              "      <td>198.6</td>\n",
              "      <td>132.4</td>\n",
              "      <td>0.0</td>\n",
              "      <td>192.0</td>\n",
              "      <td>0.0</td>\n",
              "      <td>978.4</td>\n",
              "      <td>825.5</td>\n",
              "      <td>360</td>\n",
              "      <td>44.296075</td>\n",
              "    </tr>\n",
              "  </tbody>\n",
              "</table>\n",
              "</div>"
            ],
            "text/plain": [
              "      X1     X2   X3     X4   X5      X6     X7   X8          Y\n",
              "0  540.0    0.0  0.0  162.0  2.5  1040.0  676.0   28  79.986111\n",
              "1  540.0    0.0  0.0  162.0  2.5  1055.0  676.0   28  61.887366\n",
              "2  332.5  142.5  0.0  228.0  0.0   932.0  594.0  270  40.269535\n",
              "3  332.5  142.5  0.0  228.0  0.0   932.0  594.0  365  41.052780\n",
              "4  198.6  132.4  0.0  192.0  0.0   978.4  825.5  360  44.296075"
            ]
          },
          "metadata": {
            "tags": []
          },
          "execution_count": 4
        }
      ]
    },
    {
      "cell_type": "code",
      "metadata": {
        "colab": {
          "base_uri": "https://localhost:8080/"
        },
        "id": "aDC_omq_2kyK",
        "outputId": "7705082e-0bed-4fdc-8f75-cc72026fc5eb"
      },
      "source": [
        "#show the number of null values in each column\n",
        "df.isnull().sum()"
      ],
      "execution_count": 5,
      "outputs": [
        {
          "output_type": "execute_result",
          "data": {
            "text/plain": [
              "X1    0\n",
              "X2    0\n",
              "X3    0\n",
              "X4    0\n",
              "X5    0\n",
              "X6    0\n",
              "X7    0\n",
              "X8    0\n",
              "Y     0\n",
              "dtype: int64"
            ]
          },
          "metadata": {
            "tags": []
          },
          "execution_count": 5
        }
      ]
    },
    {
      "cell_type": "code",
      "metadata": {
        "colab": {
          "base_uri": "https://localhost:8080/"
        },
        "id": "JVbh5rmCKJh1",
        "outputId": "9643c893-bc17-4f9f-9f32-6f58df91c77b"
      },
      "source": [
        "#show the data size\n",
        "print('dataset size =', df.size)"
      ],
      "execution_count": 6,
      "outputs": [
        {
          "output_type": "stream",
          "text": [
            "dataset size = 9270\n"
          ],
          "name": "stdout"
        }
      ]
    },
    {
      "cell_type": "code",
      "metadata": {
        "colab": {
          "base_uri": "https://localhost:8080/"
        },
        "id": "T8M8hyReRMNR",
        "outputId": "fac8bb7d-8537-4044-a702-5633bafee10c"
      },
      "source": [
        "#show the number of records\n",
        "print('the number of records =', len(df))"
      ],
      "execution_count": 7,
      "outputs": [
        {
          "output_type": "stream",
          "text": [
            "the number of records = 1030\n"
          ],
          "name": "stdout"
        }
      ]
    },
    {
      "cell_type": "code",
      "metadata": {
        "colab": {
          "base_uri": "https://localhost:8080/"
        },
        "id": "P6YvVD7tINnR",
        "outputId": "c425ac38-257b-4348-89a0-26f56cfcdc8f"
      },
      "source": [
        "#show the number of features\n",
        "print('the number of features =', len(df.columns)-1)"
      ],
      "execution_count": 8,
      "outputs": [
        {
          "output_type": "stream",
          "text": [
            "the number of features = 8\n"
          ],
          "name": "stdout"
        }
      ]
    },
    {
      "cell_type": "code",
      "metadata": {
        "colab": {
          "base_uri": "https://localhost:8080/",
          "height": 196
        },
        "id": "ksRmMK92Iclf",
        "outputId": "17fdd105-c74e-4f0d-eac6-86e412aa3a61"
      },
      "source": [
        "#prepare the features in a separate dataframe called xf\n",
        "xf = df.drop(columns = ['Y'])\n",
        "xf.head()"
      ],
      "execution_count": 9,
      "outputs": [
        {
          "output_type": "execute_result",
          "data": {
            "text/html": [
              "<div>\n",
              "<style scoped>\n",
              "    .dataframe tbody tr th:only-of-type {\n",
              "        vertical-align: middle;\n",
              "    }\n",
              "\n",
              "    .dataframe tbody tr th {\n",
              "        vertical-align: top;\n",
              "    }\n",
              "\n",
              "    .dataframe thead th {\n",
              "        text-align: right;\n",
              "    }\n",
              "</style>\n",
              "<table border=\"1\" class=\"dataframe\">\n",
              "  <thead>\n",
              "    <tr style=\"text-align: right;\">\n",
              "      <th></th>\n",
              "      <th>X1</th>\n",
              "      <th>X2</th>\n",
              "      <th>X3</th>\n",
              "      <th>X4</th>\n",
              "      <th>X5</th>\n",
              "      <th>X6</th>\n",
              "      <th>X7</th>\n",
              "      <th>X8</th>\n",
              "    </tr>\n",
              "  </thead>\n",
              "  <tbody>\n",
              "    <tr>\n",
              "      <th>0</th>\n",
              "      <td>540.0</td>\n",
              "      <td>0.0</td>\n",
              "      <td>0.0</td>\n",
              "      <td>162.0</td>\n",
              "      <td>2.5</td>\n",
              "      <td>1040.0</td>\n",
              "      <td>676.0</td>\n",
              "      <td>28</td>\n",
              "    </tr>\n",
              "    <tr>\n",
              "      <th>1</th>\n",
              "      <td>540.0</td>\n",
              "      <td>0.0</td>\n",
              "      <td>0.0</td>\n",
              "      <td>162.0</td>\n",
              "      <td>2.5</td>\n",
              "      <td>1055.0</td>\n",
              "      <td>676.0</td>\n",
              "      <td>28</td>\n",
              "    </tr>\n",
              "    <tr>\n",
              "      <th>2</th>\n",
              "      <td>332.5</td>\n",
              "      <td>142.5</td>\n",
              "      <td>0.0</td>\n",
              "      <td>228.0</td>\n",
              "      <td>0.0</td>\n",
              "      <td>932.0</td>\n",
              "      <td>594.0</td>\n",
              "      <td>270</td>\n",
              "    </tr>\n",
              "    <tr>\n",
              "      <th>3</th>\n",
              "      <td>332.5</td>\n",
              "      <td>142.5</td>\n",
              "      <td>0.0</td>\n",
              "      <td>228.0</td>\n",
              "      <td>0.0</td>\n",
              "      <td>932.0</td>\n",
              "      <td>594.0</td>\n",
              "      <td>365</td>\n",
              "    </tr>\n",
              "    <tr>\n",
              "      <th>4</th>\n",
              "      <td>198.6</td>\n",
              "      <td>132.4</td>\n",
              "      <td>0.0</td>\n",
              "      <td>192.0</td>\n",
              "      <td>0.0</td>\n",
              "      <td>978.4</td>\n",
              "      <td>825.5</td>\n",
              "      <td>360</td>\n",
              "    </tr>\n",
              "  </tbody>\n",
              "</table>\n",
              "</div>"
            ],
            "text/plain": [
              "      X1     X2   X3     X4   X5      X6     X7   X8\n",
              "0  540.0    0.0  0.0  162.0  2.5  1040.0  676.0   28\n",
              "1  540.0    0.0  0.0  162.0  2.5  1055.0  676.0   28\n",
              "2  332.5  142.5  0.0  228.0  0.0   932.0  594.0  270\n",
              "3  332.5  142.5  0.0  228.0  0.0   932.0  594.0  365\n",
              "4  198.6  132.4  0.0  192.0  0.0   978.4  825.5  360"
            ]
          },
          "metadata": {
            "tags": []
          },
          "execution_count": 9
        }
      ]
    },
    {
      "cell_type": "code",
      "metadata": {
        "id": "B5W-DacnJLy7",
        "colab": {
          "base_uri": "https://localhost:8080/"
        },
        "outputId": "6656a0c8-51fe-49db-f604-c41de2c2dc5c"
      },
      "source": [
        "#prepare the response variable in a separate column called yf\n",
        "yf = df['Y']\n",
        "yf.head()"
      ],
      "execution_count": 10,
      "outputs": [
        {
          "output_type": "execute_result",
          "data": {
            "text/plain": [
              "0    79.986111\n",
              "1    61.887366\n",
              "2    40.269535\n",
              "3    41.052780\n",
              "4    44.296075\n",
              "Name: Y, dtype: float64"
            ]
          },
          "metadata": {
            "tags": []
          },
          "execution_count": 10
        }
      ]
    },
    {
      "cell_type": "code",
      "metadata": {
        "id": "dNFrJYFX7I0H"
      },
      "source": [
        "#divide the dataset into training set (80%) and testing set (20%)\n",
        "from sklearn.model_selection import train_test_split   #to divide the dataset \n",
        "X_train, X_test, y_train, y_test = train_test_split(xf, yf, test_size=0.2, random_state=1)"
      ],
      "execution_count": 11,
      "outputs": []
    },
    {
      "cell_type": "code",
      "metadata": {
        "id": "izf-9VEhXXc5"
      },
      "source": [
        "#to apply the cross validation \n",
        "from sklearn.model_selection import cross_val_score\n",
        "#to apply the k division  \n",
        "from sklearn.model_selection import KFold \n",
        "\n",
        "#cross validation model\n",
        "Cross_Val_10 = KFold(n_splits=10, random_state=1, shuffle=True)"
      ],
      "execution_count": 12,
      "outputs": []
    },
    {
      "cell_type": "markdown",
      "metadata": {
        "id": "1IPnRjYFqZ-k"
      },
      "source": [
        "# Linear Regression"
      ]
    },
    {
      "cell_type": "markdown",
      "metadata": {
        "id": "Xp5dOCXBq8xD"
      },
      "source": [
        "LinearRegression(*, fit_intercept=True, normalize=False, copy_X=True n_jobs=None, positive=False)\n",
        "\n",
        "link: https://scikit-learn.org/stable/modules/generated/sklearn.linear_model.LinearRegression.html\n",
        "\n"
      ]
    },
    {
      "cell_type": "markdown",
      "metadata": {
        "id": "_Cx9FO9aMoSG"
      },
      "source": [
        "## importing the libraries and starting the implementation time"
      ]
    },
    {
      "cell_type": "code",
      "metadata": {
        "id": "wRECtpqhMZYj"
      },
      "source": [
        "#to use linear regression model\n",
        "from sklearn.linear_model import LinearRegression\n",
        "\n",
        "#start the implementation time measuring\n",
        "tic_st_imp_LR = time.perf_counter() "
      ],
      "execution_count": 13,
      "outputs": []
    },
    {
      "cell_type": "markdown",
      "metadata": {
        "id": "mz2fraXbMwhE"
      },
      "source": [
        "## Choosing Parameters"
      ]
    },
    {
      "cell_type": "markdown",
      "metadata": {
        "id": "7kLBnwPrM0vg"
      },
      "source": [
        "As there is no parameters that affect the quality of the linear regression model, this step was skipped"
      ]
    },
    {
      "cell_type": "markdown",
      "metadata": {
        "id": "QIEAkVH3MkL_"
      },
      "source": [
        "## Linear Regression Final Model"
      ]
    },
    {
      "cell_type": "code",
      "metadata": {
        "colab": {
          "base_uri": "https://localhost:8080/"
        },
        "id": "reuBha83n87T",
        "outputId": "85791fb2-d013-4f9b-9aaf-0f3863898d22"
      },
      "source": [
        "Linear_Regression_Model = LinearRegression()\n",
        "\n",
        "#start the fitting time measuring\n",
        "tic_st_fit_LR = time.perf_counter()\n",
        "\n",
        "Linear_Regression_Scores = cross_val_score(Linear_Regression_Model, X_train, y_train, cv=Cross_Val_10)\n",
        "\n",
        "#end the fitting time measuring\n",
        "tic_en_fit_LR = time.perf_counter()\n",
        "\n",
        "#end the implementation time measuring\n",
        "tic_en_imp_LR = time.perf_counter()\n",
        "\n",
        "fitting_time_LR = tic_en_fit_LR - tic_st_fit_LR\n",
        "implementation_time_LR = tic_en_imp_LR - tic_st_imp_LR\n",
        "performance_LR =  Linear_Regression_Scores.mean()\n",
        "\n",
        "print('Total implementation time of Linear Regression: ', implementation_time_LR)\n",
        "print('Total fitting time of Linear Regression: ', fitting_time_LR)\n",
        "print('Performance of Linear Regression: ', performance_LR)"
      ],
      "execution_count": 14,
      "outputs": [
        {
          "output_type": "stream",
          "text": [
            "Total implementation time of Linear Regression:  0.04700471099999959\n",
            "Total fitting time of Linear Regression:  0.032883727999887924\n",
            "Performance of Linear Regression:  0.6255430339646376\n"
          ],
          "name": "stdout"
        }
      ]
    },
    {
      "cell_type": "markdown",
      "metadata": {
        "id": "Q5AtxTLIqrO8"
      },
      "source": [
        "# K-Nearest Neighbors Regression"
      ]
    },
    {
      "cell_type": "markdown",
      "metadata": {
        "id": "whr4RGzd-VCI"
      },
      "source": [
        "KNeighborsClassifier(n_neighbors=5, *, weights='uniform', algorithm='auto', leaf_size=30, p=2, metric='minkowski', metric_params=None, n_jobs=None, **kwargs)\n",
        "\n",
        "link: https://scikit-learn.org/stable/modules/generated/sklearn.neighbors.KNeighborsClassifier.html"
      ]
    },
    {
      "cell_type": "markdown",
      "metadata": {
        "id": "_BB3ESsoQG8M"
      },
      "source": [
        "## importing the libraries and starting the implementation time"
      ]
    },
    {
      "cell_type": "code",
      "metadata": {
        "id": "39CqFU4EQG8R"
      },
      "source": [
        "#to use random forest knn model\n",
        "from sklearn import neighbors\n",
        "\n",
        "#start the implementation time measuring\n",
        "tic_st_imp_KNN = time.perf_counter() "
      ],
      "execution_count": 15,
      "outputs": []
    },
    {
      "cell_type": "markdown",
      "metadata": {
        "id": "5K40_UBzRChx"
      },
      "source": [
        "## Choosing Parameters"
      ]
    },
    {
      "cell_type": "markdown",
      "metadata": {
        "id": "1vqs8MKrKPh7"
      },
      "source": [
        "### **Choosing K**"
      ]
    },
    {
      "cell_type": "code",
      "metadata": {
        "id": "Ulo0075Phams"
      },
      "source": [
        "K_Neighbors = []\n",
        "K_Neighbors_time = []\n",
        "K_Neighbors_Mean = []\n",
        "\n",
        "for x in range(1, int(9*len(X_train)/10), 10):\n",
        "  KNNx =neighbors.KNeighborsRegressor(n_neighbors = x, weights='uniform')\n",
        "  st_speed_x = time.perf_counter()\n",
        "  KNNx_Scores = cross_val_score(KNNx, X_train, y_train, cv=Cross_Val_10)\n",
        "  en_speed_x = time.perf_counter()\n",
        "  K_Neighbors.append(x)\n",
        "  K_Neighbors_time.append(en_speed_x - st_speed_x)\n",
        "  K_Neighbors_Mean.append(KNNx_Scores.mean())"
      ],
      "execution_count": 16,
      "outputs": []
    },
    {
      "cell_type": "code",
      "metadata": {
        "id": "CmqBjI7ehtLJ",
        "colab": {
          "base_uri": "https://localhost:8080/",
          "height": 296
        },
        "outputId": "49fa2923-9c6d-4f0b-b630-7d8a8aab4c49"
      },
      "source": [
        "plt.plot(K_Neighbors, K_Neighbors_time)\n",
        "plt.xlabel('K_Neighbors') \n",
        "plt.ylabel('K_Neighbors_time') \n",
        "plt.title('Time Change according to K_Neighbors change') \n",
        "plt.show()"
      ],
      "execution_count": 17,
      "outputs": [
        {
          "output_type": "display_data",
          "data": {
            "image/png": "[encoded data removed]",
            "text/plain": [
              "<Figure size 432x288 with 1 Axes>"
            ]
          },
          "metadata": {
            "tags": [],
            "needs_background": "light"
          }
        }
      ]
    },
    {
      "cell_type": "code",
      "metadata": {
        "colab": {
          "base_uri": "https://localhost:8080/",
          "height": 296
        },
        "id": "loJwV6INGSrC",
        "outputId": "1e694c02-e87c-45c8-e180-968b1be1fce1"
      },
      "source": [
        "plt.plot(K_Neighbors, K_Neighbors_Mean)\n",
        "plt.xlabel('K_Neighbors') \n",
        "plt.ylabel('K_Neighbors_Mean') \n",
        "plt.title('Performance Change according to K_Neighbors change')  \n",
        "plt.show()"
      ],
      "execution_count": 18,
      "outputs": [
        {
          "output_type": "display_data",
          "data": {
            "image/png": "[encoded data removed]",
            "text/plain": [
              "<Figure size 432x288 with 1 Axes>"
            ]
          },
          "metadata": {
            "tags": [],
            "needs_background": "light"
          }
        }
      ]
    },
    {
      "cell_type": "code",
      "metadata": {
        "colab": {
          "base_uri": "https://localhost:8080/"
        },
        "id": "UVco5r_7HScS",
        "outputId": "8f2992c1-1412-4321-b4d0-894f63e71171"
      },
      "source": [
        "best_k_index = K_Neighbors_Mean.index(max(K_Neighbors_Mean))\n",
        "best_k= K_Neighbors[best_k_index]\n",
        "best_k_fitting_time = K_Neighbors_time[best_k_index]\n",
        "best_k_performance = K_Neighbors_Mean[best_k_index]\n",
        "\n",
        "print('best_k =', best_k)\n",
        "print('with performance=', best_k_performance)\n",
        "print('and time=', best_k_fitting_time)"
      ],
      "execution_count": 19,
      "outputs": [
        {
          "output_type": "stream",
          "text": [
            "best_k = 1\n",
            "with performance= 0.694902556160428\n",
            "and time= 0.04658441099991251\n"
          ],
          "name": "stdout"
        }
      ]
    },
    {
      "cell_type": "markdown",
      "metadata": {
        "id": "0f8HPDBiKd7R"
      },
      "source": [
        "### **Choosing weight method**"
      ]
    },
    {
      "cell_type": "code",
      "metadata": {
        "id": "hCXVPpcyJGjm",
        "colab": {
          "base_uri": "https://localhost:8080/"
        },
        "outputId": "d70506e4-64b6-4023-8edd-58f2c0e719d6"
      },
      "source": [
        "KNN_uniform =neighbors.KNeighborsRegressor(n_neighbors = best_k, weights='uniform')\n",
        "tic = time.perf_counter()\n",
        "KNN_uniform_Scores = cross_val_score(KNN_uniform, X_train, y_train, cv=Cross_Val_10)\n",
        "toc = time.perf_counter()\n",
        "print('Total fitting time of KNN Regression with uniform weight: ',toc - tic)\n",
        "print('Performance of KNN Regression with uniform weight: ', KNN_uniform_Scores.mean())\n",
        "\n",
        "KNN_distance =neighbors.KNeighborsRegressor(n_neighbors = best_k, weights='distance')\n",
        "tic = time.perf_counter()\n",
        "KNN_distance_Scores = cross_val_score(KNN_distance, X_train, y_train, cv=Cross_Val_10)\n",
        "toc = time.perf_counter()\n",
        "print('Total fitting time of KNN Regression with distance weight: ',toc - tic)\n",
        "print('Performance of KNN Regression with distance weight: ', KNN_distance_Scores.mean())"
      ],
      "execution_count": 20,
      "outputs": [
        {
          "output_type": "stream",
          "text": [
            "Total fitting time of KNN Regression with uniform weight:  0.11576422899997851\n",
            "Performance of KNN Regression with uniform weight:  0.694902556160428\n",
            "Total fitting time of KNN Regression with distance weight:  0.03859499899999719\n",
            "Performance of KNN Regression with distance weight:  0.694902556160428\n"
          ],
          "name": "stdout"
        }
      ]
    },
    {
      "cell_type": "markdown",
      "metadata": {
        "id": "OoNkm1vcMYx8"
      },
      "source": [
        "## Knn Final Model"
      ]
    },
    {
      "cell_type": "code",
      "metadata": {
        "colab": {
          "base_uri": "https://localhost:8080/"
        },
        "id": "WpAAIDtRKrTb",
        "outputId": "687efcc6-2bc6-4478-f6b5-bd47db341c95"
      },
      "source": [
        "Knn_Model = neighbors.KNeighborsRegressor(n_neighbors = best_k, weights='distance')\n",
        "\n",
        "#start the fitting time measuring\n",
        "tic_st_fit_KNN = time.perf_counter()\n",
        "\n",
        "KNN_Regression_Scores = cross_val_score(Knn_Model, X_train, y_train, cv=Cross_Val_10)\n",
        "\n",
        "#end the fitting time measuring\n",
        "tic_en_fit_KNN = time.perf_counter()\n",
        "\n",
        "#end the implementation time measuring\n",
        "tic_en_imp_KNN = time.perf_counter()\n",
        "\n",
        "\n",
        "fitting_time_KNN = tic_en_fit_KNN - tic_st_fit_KNN\n",
        "implementation_time_KNN = tic_en_imp_KNN - tic_st_imp_KNN\n",
        "performance_KNN =  KNN_Regression_Scores.mean()\n",
        "\n",
        "print('Total implementation time of K-Nearest Neighbors Regression: ', implementation_time_KNN)\n",
        "print('Total fitting time of K-Nearest Neighbors Regression: ', fitting_time_KNN)\n",
        "print('Performance of K-Nearest Neighbors Regression: ', performance_KNN)\n"
      ],
      "execution_count": 21,
      "outputs": [
        {
          "output_type": "stream",
          "text": [
            "Total implementation time of K-Nearest Neighbors Regression:  7.001419120000037\n",
            "Total fitting time of K-Nearest Neighbors Regression:  0.03838895900003081\n",
            "Performance of K-Nearest Neighbors Regression:  0.694902556160428\n"
          ],
          "name": "stdout"
        }
      ]
    },
    {
      "cell_type": "markdown",
      "metadata": {
        "id": "c9cm1P4Eqm-L"
      },
      "source": [
        "# Random Forest Regression"
      ]
    },
    {
      "cell_type": "markdown",
      "metadata": {
        "id": "CXGx9iGjtMCH"
      },
      "source": [
        "RandomForestRegressor(n_estimators=100, *, criterion='mse', max_depth=None, min_samples_split=2, min_samples_leaf=1, min_weight_fraction_leaf=0.0, max_features='auto', max_leaf_nodes=None, min_impurity_decrease=0.0, min_impurity_split=None, bootstrap=True, oob_score=False, n_jobs=None, random_state=None, verbose=0, warm_start=False, ccp_alpha=0.0, max_samples=None)\n",
        "\n",
        "Link: https://scikit-learn.org/stable/modules/generated/sklearn.ensemble.RandomForestRegressor.html"
      ]
    },
    {
      "cell_type": "markdown",
      "metadata": {
        "id": "gwZEicXfNP91"
      },
      "source": [
        "## importing the libraries and starting the implementation time"
      ]
    },
    {
      "cell_type": "code",
      "metadata": {
        "id": "K0OylrLeNOwf"
      },
      "source": [
        "#to use random forest regression model\n",
        "from sklearn.ensemble import RandomForestRegressor\n",
        "\n",
        "#start the implementation time measuring\n",
        "tic_st_imp_RF = time.perf_counter() "
      ],
      "execution_count": 22,
      "outputs": []
    },
    {
      "cell_type": "markdown",
      "metadata": {
        "id": "H2_OatdVQU4w"
      },
      "source": [
        "## Choosing Parameters"
      ]
    },
    {
      "cell_type": "markdown",
      "metadata": {
        "id": "QUim8TMp5A9Z"
      },
      "source": [
        "### **N-estimators parameter**"
      ]
    },
    {
      "cell_type": "markdown",
      "metadata": {
        "id": "c-J8KarpNZeA"
      },
      "source": [
        "Choosing the number of trees. In this section, we will try different number of n-estimators and compare between thier speed and performance "
      ]
    },
    {
      "cell_type": "code",
      "metadata": {
        "id": "MesTwCfmZDKR"
      },
      "source": [
        "N_est_time = []\n",
        "N_est_Mean = []\n",
        "N_est = []\n",
        "\n",
        "for x in range(1, 15):\n",
        "  RFx = RandomForestRegressor(n_estimators=x)\n",
        "  st_speed_x = time.perf_counter()\n",
        "  RFx_Scores = cross_val_score(RFx, X_train, y_train, cv=Cross_Val_10)\n",
        "  en_speed_x = time.perf_counter()\n",
        "  N_est.append(x)\n",
        "  N_est_time.append(en_speed_x - st_speed_x)\n",
        "  N_est_Mean.append(RFx_Scores.mean())"
      ],
      "execution_count": 23,
      "outputs": []
    },
    {
      "cell_type": "code",
      "metadata": {
        "colab": {
          "base_uri": "https://localhost:8080/",
          "height": 296
        },
        "id": "-ynL9pUE0k9w",
        "outputId": "4f2e45c1-c6fe-4f8b-be86-45146e0fa40c"
      },
      "source": [
        "plt.plot(N_est, N_est_time)\n",
        "plt.xlabel('N_est') \n",
        "plt.ylabel('N_est_Time') \n",
        "plt.title('Time Change according to N_estimators change') \n",
        "plt.show()"
      ],
      "execution_count": 24,
      "outputs": [
        {
          "output_type": "display_data",
          "data": {
            "image/png": "[encoded data removed]",
            "text/plain": [
              "<Figure size 432x288 with 1 Axes>"
            ]
          },
          "metadata": {
            "tags": [],
            "needs_background": "light"
          }
        }
      ]
    },
    {
      "cell_type": "code",
      "metadata": {
        "colab": {
          "base_uri": "https://localhost:8080/",
          "height": 296
        },
        "id": "051yfSDz2YCp",
        "outputId": "824d82b1-b83e-447b-a3e9-df770139b78a"
      },
      "source": [
        "plt.plot(N_est, N_est_Mean)\n",
        "plt.xlabel('N_est') \n",
        "plt.ylabel('N_est_Mean') \n",
        "plt.title('Performance Change according to N_estimators change')  \n",
        "plt.show()"
      ],
      "execution_count": 25,
      "outputs": [
        {
          "output_type": "display_data",
          "data": {
            "image/png": "[encoded data removed]",
            "text/plain": [
              "<Figure size 432x288 with 1 Axes>"
            ]
          },
          "metadata": {
            "tags": [],
            "needs_background": "light"
          }
        }
      ]
    },
    {
      "cell_type": "markdown",
      "metadata": {
        "id": "nwShSgvv5JFO"
      },
      "source": [
        "### **Error Criterion Parameter**"
      ]
    },
    {
      "cell_type": "markdown",
      "metadata": {
        "id": "DhlNyNvw5Qgc"
      },
      "source": [
        "We have two criteria to apply, either (mae) Mean absolute error or (mse) Mean Squared error.  "
      ]
    },
    {
      "cell_type": "code",
      "metadata": {
        "colab": {
          "base_uri": "https://localhost:8080/"
        },
        "id": "6wxsx1X1x3Je",
        "outputId": "5a275de8-18a8-4e3a-903b-f4a5557de853"
      },
      "source": [
        "Random_Forest_Model_mae = RandomForestRegressor(n_estimators=5, criterion='mae')\n",
        "tic = time.perf_counter()\n",
        "Random_Forest_Scores_mae = cross_val_score(Random_Forest_Model_mae, X_train, y_train, cv=Cross_Val_10)\n",
        "toc = time.perf_counter()\n",
        "print('Total fitting time of Random Forest Regression with mae: ',toc - tic)\n",
        "print('Performance of Random Forest Regression with mae: ', Random_Forest_Scores_mae.mean())\n",
        "\n",
        "Random_Forest_Model_mse = RandomForestRegressor(n_estimators=5, criterion='mse')\n",
        "tic = time.perf_counter()\n",
        "Random_Forest_Scores_mse = cross_val_score(Random_Forest_Model_mse, X_train, y_train, cv=Cross_Val_10)\n",
        "toc = time.perf_counter()\n",
        "print('Total fitting time of Random Forest Regression with mse: ',toc - tic)\n",
        "print('Performance of Random Forest Regression with mse: ', Random_Forest_Scores_mse.mean())\n"
      ],
      "execution_count": 26,
      "outputs": [
        {
          "output_type": "stream",
          "text": [
            "Total fitting time of Random Forest Regression with mae:  1.0659582210000735\n",
            "Performance of Random Forest Regression with mae:  0.8770616156973571\n",
            "Total fitting time of Random Forest Regression with mse:  0.20166006099998413\n",
            "Performance of Random Forest Regression with mse:  0.8693690060954833\n"
          ],
          "name": "stdout"
        }
      ]
    },
    {
      "cell_type": "markdown",
      "metadata": {
        "id": "s7Afaa9ZMeGL"
      },
      "source": [
        "## Random Forest Final Model"
      ]
    },
    {
      "cell_type": "code",
      "metadata": {
        "colab": {
          "base_uri": "https://localhost:8080/"
        },
        "id": "dcP-JovN9xja",
        "outputId": "609cf296-b8db-44a3-bf9d-d2a86895c036"
      },
      "source": [
        "Random_Forest_Model = RandomForestRegressor(n_estimators=5, criterion='mse')\n",
        "\n",
        "#start the fitting time measuring\n",
        "tic_st_fit_RF = time.perf_counter()\n",
        "\n",
        "Random_Forest_Regression_Scores = cross_val_score(Random_Forest_Model, X_train, y_train, cv=Cross_Val_10)\n",
        "\n",
        "#end the fitting time measuring\n",
        "tic_en_fit_RF = time.perf_counter()\n",
        "\n",
        "#end the implementation time measuring\n",
        "tic_en_imp_RF = time.perf_counter()\n",
        "\n",
        "fitting_time_RF = tic_en_fit_RF - tic_st_fit_RF\n",
        "implementation_time_RF = tic_en_imp_RF - tic_st_imp_RF\n",
        "performance_RF =  Random_Forest_Regression_Scores.mean()\n",
        "\n",
        "print('Total implementation time of Random Forest Regression: ', implementation_time_RF)\n",
        "print('Total fitting time of Random Forest Regression: ', fitting_time_RF)\n",
        "print('Performance of Random Forest Regression: ', performance_RF)\n",
        "\n"
      ],
      "execution_count": 27,
      "outputs": [
        {
          "output_type": "stream",
          "text": [
            "Total implementation time of Random Forest Regression:  5.780270588000121\n",
            "Total fitting time of Random Forest Regression:  0.19903445999989344\n",
            "Performance of Random Forest Regression:  0.8799989813093315\n"
          ],
          "name": "stdout"
        }
      ]
    },
    {
      "cell_type": "markdown",
      "metadata": {
        "id": "4T4ZpPryOorB"
      },
      "source": [
        "# Choosing Best Model"
      ]
    },
    {
      "cell_type": "markdown",
      "metadata": {
        "id": "Ooyvf1MFUZYe"
      },
      "source": [
        "## Comparison between models"
      ]
    },
    {
      "cell_type": "code",
      "metadata": {
        "colab": {
          "base_uri": "https://localhost:8080/",
          "height": 137
        },
        "id": "OBTLltcYUf4x",
        "outputId": "0bce2729-8a1a-41cd-fa3c-30ba87606094"
      },
      "source": [
        "results = {'Models' : ['Linear Regression', 'Random Forest Regression', 'K-Nearest Neighbors Regression'],\n",
        "           'implementation time' : [implementation_time_LR, implementation_time_RF, implementation_time_KNN],\n",
        "           'fitting time' : [fitting_time_LR, fitting_time_RF, fitting_time_KNN],\n",
        "           'performance' : [performance_LR, performance_RF, performance_KNN]}\n",
        "results_df = pd.DataFrame(results, columns = ['Models', 'implementation time', 'fitting time', 'performance'])\n",
        "\n",
        "results_df"
      ],
      "execution_count": 28,
      "outputs": [
        {
          "output_type": "execute_result",
          "data": {
            "text/html": [
              "<div>\n",
              "<style scoped>\n",
              "    .dataframe tbody tr th:only-of-type {\n",
              "        vertical-align: middle;\n",
              "    }\n",
              "\n",
              "    .dataframe tbody tr th {\n",
              "        vertical-align: top;\n",
              "    }\n",
              "\n",
              "    .dataframe thead th {\n",
              "        text-align: right;\n",
              "    }\n",
              "</style>\n",
              "<table border=\"1\" class=\"dataframe\">\n",
              "  <thead>\n",
              "    <tr style=\"text-align: right;\">\n",
              "      <th></th>\n",
              "      <th>Models</th>\n",
              "      <th>implementation time</th>\n",
              "      <th>fitting time</th>\n",
              "      <th>performance</th>\n",
              "    </tr>\n",
              "  </thead>\n",
              "  <tbody>\n",
              "    <tr>\n",
              "      <th>0</th>\n",
              "      <td>Linear Regression</td>\n",
              "      <td>0.047005</td>\n",
              "      <td>0.032884</td>\n",
              "      <td>0.625543</td>\n",
              "    </tr>\n",
              "    <tr>\n",
              "      <th>1</th>\n",
              "      <td>Random Forest Regression</td>\n",
              "      <td>5.780271</td>\n",
              "      <td>0.199034</td>\n",
              "      <td>0.879999</td>\n",
              "    </tr>\n",
              "    <tr>\n",
              "      <th>2</th>\n",
              "      <td>K-Nearest Neighbors Regression</td>\n",
              "      <td>7.001419</td>\n",
              "      <td>0.038389</td>\n",
              "      <td>0.694903</td>\n",
              "    </tr>\n",
              "  </tbody>\n",
              "</table>\n",
              "</div>"
            ],
            "text/plain": [
              "                           Models  ...  performance\n",
              "0               Linear Regression  ...     0.625543\n",
              "1        Random Forest Regression  ...     0.879999\n",
              "2  K-Nearest Neighbors Regression  ...     0.694903\n",
              "\n",
              "[3 rows x 4 columns]"
            ]
          },
          "metadata": {
            "tags": []
          },
          "execution_count": 28
        }
      ]
    },
    {
      "cell_type": "markdown",
      "metadata": {
        "id": "wd-fih48OyNg"
      },
      "source": [
        "## Considering Linear Regression Model as the best model"
      ]
    },
    {
      "cell_type": "code",
      "metadata": {
        "colab": {
          "base_uri": "https://localhost:8080/"
        },
        "id": "Ez4kgOehOt6H",
        "outputId": "87bdb17a-3e7e-4b52-94e4-df08ce118a24"
      },
      "source": [
        "from sklearn import metrics\n",
        "Linear_Regression_Model.fit(X_test, y_test)\n",
        "y_test_pred = Linear_Regression_Model.predict(X_test)\n",
        "print('Test MSE: ', metrics.mean_squared_error(y_test, y_test_pred))"
      ],
      "execution_count": 29,
      "outputs": [
        {
          "output_type": "stream",
          "text": [
            "Test MSE:  113.79979243508389\n"
          ],
          "name": "stdout"
        }
      ]
    },
    {
      "cell_type": "markdown",
      "metadata": {
        "id": "66kD_5W2Qnxw"
      },
      "source": [
        "## Considering K-Nearest Neighbors Regression Model as the best model"
      ]
    },
    {
      "cell_type": "code",
      "metadata": {
        "colab": {
          "base_uri": "https://localhost:8080/"
        },
        "id": "V4ohuLFXQRag",
        "outputId": "c131055c-c241-4ae6-b574-d1b86b383967"
      },
      "source": [
        "from sklearn import metrics\n",
        "Knn_Model.fit(X_test, y_test)\n",
        "y_test_pred = Knn_Model.predict(X_test)\n",
        "print('Test MSE: ', metrics.mean_squared_error(y_test, y_test_pred))"
      ],
      "execution_count": 30,
      "outputs": [
        {
          "output_type": "stream",
          "text": [
            "Test MSE:  0.039606913656328235\n"
          ],
          "name": "stdout"
        }
      ]
    },
    {
      "cell_type": "markdown",
      "metadata": {
        "id": "IgHI6FcqQiQ4"
      },
      "source": [
        "## Considering Random Forest Model as the best model"
      ]
    },
    {
      "cell_type": "code",
      "metadata": {
        "colab": {
          "base_uri": "https://localhost:8080/"
        },
        "id": "FO0bbUuJQIIj",
        "outputId": "80494382-c6a3-4a65-c181-6fd6f0943c62"
      },
      "source": [
        "from sklearn import metrics\n",
        "Random_Forest_Model.fit(X_test, y_test)\n",
        "y_test_pred = Random_Forest_Model.predict(X_test)\n",
        "print('Test MSE: ', metrics.mean_squared_error(y_test, y_test_pred))"
      ],
      "execution_count": 31,
      "outputs": [
        {
          "output_type": "stream",
          "text": [
            "Test MSE:  20.09485087479116\n"
          ],
          "name": "stdout"
        }
      ]
    }
  ]
}