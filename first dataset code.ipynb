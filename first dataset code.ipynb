{
  "nbformat": 4,
  "nbformat_minor": 0,
  "metadata": {
    "colab": {
      "name": "regression models with parameters first dataset.ipynb",
      "provenance": [],
      "collapsed_sections": [
        "1IPnRjYFqZ-k",
        "QIEAkVH3MkL_",
        "s7Afaa9ZMeGL",
        "66kD_5W2Qnxw"
      ],
      "toc_visible": true
    },
    "kernelspec": {
      "name": "python3",
      "display_name": "Python 3"
    },
    "language_info": {
      "name": "python"
    }
  },
  "cells": [
    {
      "cell_type": "markdown",
      "metadata": {
        "id": "52wLpKSMRAnj"
      },
      "source": [
        "# Discovering and Preparing The Dataset"
      ]
    },
    {
      "cell_type": "code",
      "metadata": {
        "id": "trCSt3oZHGto"
      },
      "source": [
        "import pandas as pd  #to read the dataframe\n",
        "import time  #to measure time\n",
        "import matplotlib.pyplot as plt #to plot figures "
      ],
      "execution_count": 1,
      "outputs": []
    },
    {
      "cell_type": "code",
      "metadata": {
        "id": "kfV46JkbI3FZ"
      },
      "source": [
        "df = pd.read_excel('ENB2012_data.xlsx')   #reading the dataset in a dataframe called (df)"
      ],
      "execution_count": 2,
      "outputs": []
    },
    {
      "cell_type": "code",
      "metadata": {
        "colab": {
          "base_uri": "https://localhost:8080/",
          "height": 196
        },
        "id": "ovqiDJoSKAqq",
        "outputId": "5bc03f6f-c3c9-4a38-f707-b3f662c9bcb8"
      },
      "source": [
        "#show the head of the dataframe\n",
        "df.head()   "
      ],
      "execution_count": 3,
      "outputs": [
        {
          "output_type": "execute_result",
          "data": {
            "text/html": [
              "<div>\n",
              "<style scoped>\n",
              "    .dataframe tbody tr th:only-of-type {\n",
              "        vertical-align: middle;\n",
              "    }\n",
              "\n",
              "    .dataframe tbody tr th {\n",
              "        vertical-align: top;\n",
              "    }\n",
              "\n",
              "    .dataframe thead th {\n",
              "        text-align: right;\n",
              "    }\n",
              "</style>\n",
              "<table border=\"1\" class=\"dataframe\">\n",
              "  <thead>\n",
              "    <tr style=\"text-align: right;\">\n",
              "      <th></th>\n",
              "      <th>X1</th>\n",
              "      <th>X2</th>\n",
              "      <th>X3</th>\n",
              "      <th>X4</th>\n",
              "      <th>X5</th>\n",
              "      <th>X6</th>\n",
              "      <th>X7</th>\n",
              "      <th>X8</th>\n",
              "      <th>Y1</th>\n",
              "      <th>Y2</th>\n",
              "    </tr>\n",
              "  </thead>\n",
              "  <tbody>\n",
              "    <tr>\n",
              "      <th>0</th>\n",
              "      <td>0.98</td>\n",
              "      <td>514.5</td>\n",
              "      <td>294.0</td>\n",
              "      <td>110.25</td>\n",
              "      <td>7.0</td>\n",
              "      <td>2</td>\n",
              "      <td>0.0</td>\n",
              "      <td>0</td>\n",
              "      <td>15.55</td>\n",
              "      <td>21.33</td>\n",
              "    </tr>\n",
              "    <tr>\n",
              "      <th>1</th>\n",
              "      <td>0.98</td>\n",
              "      <td>514.5</td>\n",
              "      <td>294.0</td>\n",
              "      <td>110.25</td>\n",
              "      <td>7.0</td>\n",
              "      <td>3</td>\n",
              "      <td>0.0</td>\n",
              "      <td>0</td>\n",
              "      <td>15.55</td>\n",
              "      <td>21.33</td>\n",
              "    </tr>\n",
              "    <tr>\n",
              "      <th>2</th>\n",
              "      <td>0.98</td>\n",
              "      <td>514.5</td>\n",
              "      <td>294.0</td>\n",
              "      <td>110.25</td>\n",
              "      <td>7.0</td>\n",
              "      <td>4</td>\n",
              "      <td>0.0</td>\n",
              "      <td>0</td>\n",
              "      <td>15.55</td>\n",
              "      <td>21.33</td>\n",
              "    </tr>\n",
              "    <tr>\n",
              "      <th>3</th>\n",
              "      <td>0.98</td>\n",
              "      <td>514.5</td>\n",
              "      <td>294.0</td>\n",
              "      <td>110.25</td>\n",
              "      <td>7.0</td>\n",
              "      <td>5</td>\n",
              "      <td>0.0</td>\n",
              "      <td>0</td>\n",
              "      <td>15.55</td>\n",
              "      <td>21.33</td>\n",
              "    </tr>\n",
              "    <tr>\n",
              "      <th>4</th>\n",
              "      <td>0.90</td>\n",
              "      <td>563.5</td>\n",
              "      <td>318.5</td>\n",
              "      <td>122.50</td>\n",
              "      <td>7.0</td>\n",
              "      <td>2</td>\n",
              "      <td>0.0</td>\n",
              "      <td>0</td>\n",
              "      <td>20.84</td>\n",
              "      <td>28.28</td>\n",
              "    </tr>\n",
              "  </tbody>\n",
              "</table>\n",
              "</div>"
            ],
            "text/plain": [
              "     X1     X2     X3      X4   X5  X6   X7  X8     Y1     Y2\n",
              "0  0.98  514.5  294.0  110.25  7.0   2  0.0   0  15.55  21.33\n",
              "1  0.98  514.5  294.0  110.25  7.0   3  0.0   0  15.55  21.33\n",
              "2  0.98  514.5  294.0  110.25  7.0   4  0.0   0  15.55  21.33\n",
              "3  0.98  514.5  294.0  110.25  7.0   5  0.0   0  15.55  21.33\n",
              "4  0.90  563.5  318.5  122.50  7.0   2  0.0   0  20.84  28.28"
            ]
          },
          "metadata": {
            "tags": []
          },
          "execution_count": 3
        }
      ]
    },
    {
      "cell_type": "markdown",
      "metadata": {
        "id": "mLgVxbDNH3ZZ"
      },
      "source": [
        "As there are two response variables and we need only one, so the second one should be dropped"
      ]
    },
    {
      "cell_type": "code",
      "metadata": {
        "colab": {
          "base_uri": "https://localhost:8080/",
          "height": 196
        },
        "id": "OqdqO96E5hSB",
        "outputId": "058373b1-0c2c-4c36-a223-393bacb96e27"
      },
      "source": [
        "#dropping the second response variable\n",
        "df = df.drop(columns = ['Y2'])\n",
        "df.head()"
      ],
      "execution_count": 4,
      "outputs": [
        {
          "output_type": "execute_result",
          "data": {
            "text/html": [
              "<div>\n",
              "<style scoped>\n",
              "    .dataframe tbody tr th:only-of-type {\n",
              "        vertical-align: middle;\n",
              "    }\n",
              "\n",
              "    .dataframe tbody tr th {\n",
              "        vertical-align: top;\n",
              "    }\n",
              "\n",
              "    .dataframe thead th {\n",
              "        text-align: right;\n",
              "    }\n",
              "</style>\n",
              "<table border=\"1\" class=\"dataframe\">\n",
              "  <thead>\n",
              "    <tr style=\"text-align: right;\">\n",
              "      <th></th>\n",
              "      <th>X1</th>\n",
              "      <th>X2</th>\n",
              "      <th>X3</th>\n",
              "      <th>X4</th>\n",
              "      <th>X5</th>\n",
              "      <th>X6</th>\n",
              "      <th>X7</th>\n",
              "      <th>X8</th>\n",
              "      <th>Y1</th>\n",
              "    </tr>\n",
              "  </thead>\n",
              "  <tbody>\n",
              "    <tr>\n",
              "      <th>0</th>\n",
              "      <td>0.98</td>\n",
              "      <td>514.5</td>\n",
              "      <td>294.0</td>\n",
              "      <td>110.25</td>\n",
              "      <td>7.0</td>\n",
              "      <td>2</td>\n",
              "      <td>0.0</td>\n",
              "      <td>0</td>\n",
              "      <td>15.55</td>\n",
              "    </tr>\n",
              "    <tr>\n",
              "      <th>1</th>\n",
              "      <td>0.98</td>\n",
              "      <td>514.5</td>\n",
              "      <td>294.0</td>\n",
              "      <td>110.25</td>\n",
              "      <td>7.0</td>\n",
              "      <td>3</td>\n",
              "      <td>0.0</td>\n",
              "      <td>0</td>\n",
              "      <td>15.55</td>\n",
              "    </tr>\n",
              "    <tr>\n",
              "      <th>2</th>\n",
              "      <td>0.98</td>\n",
              "      <td>514.5</td>\n",
              "      <td>294.0</td>\n",
              "      <td>110.25</td>\n",
              "      <td>7.0</td>\n",
              "      <td>4</td>\n",
              "      <td>0.0</td>\n",
              "      <td>0</td>\n",
              "      <td>15.55</td>\n",
              "    </tr>\n",
              "    <tr>\n",
              "      <th>3</th>\n",
              "      <td>0.98</td>\n",
              "      <td>514.5</td>\n",
              "      <td>294.0</td>\n",
              "      <td>110.25</td>\n",
              "      <td>7.0</td>\n",
              "      <td>5</td>\n",
              "      <td>0.0</td>\n",
              "      <td>0</td>\n",
              "      <td>15.55</td>\n",
              "    </tr>\n",
              "    <tr>\n",
              "      <th>4</th>\n",
              "      <td>0.90</td>\n",
              "      <td>563.5</td>\n",
              "      <td>318.5</td>\n",
              "      <td>122.50</td>\n",
              "      <td>7.0</td>\n",
              "      <td>2</td>\n",
              "      <td>0.0</td>\n",
              "      <td>0</td>\n",
              "      <td>20.84</td>\n",
              "    </tr>\n",
              "  </tbody>\n",
              "</table>\n",
              "</div>"
            ],
            "text/plain": [
              "     X1     X2     X3      X4   X5  X6   X7  X8     Y1\n",
              "0  0.98  514.5  294.0  110.25  7.0   2  0.0   0  15.55\n",
              "1  0.98  514.5  294.0  110.25  7.0   3  0.0   0  15.55\n",
              "2  0.98  514.5  294.0  110.25  7.0   4  0.0   0  15.55\n",
              "3  0.98  514.5  294.0  110.25  7.0   5  0.0   0  15.55\n",
              "4  0.90  563.5  318.5  122.50  7.0   2  0.0   0  20.84"
            ]
          },
          "metadata": {
            "tags": []
          },
          "execution_count": 4
        }
      ]
    },
    {
      "cell_type": "code",
      "metadata": {
        "colab": {
          "base_uri": "https://localhost:8080/"
        },
        "id": "aDC_omq_2kyK",
        "outputId": "5e56603b-8e0b-407a-cfd1-f434fda1bf82"
      },
      "source": [
        "#show the number of null values in each column\n",
        "df.isnull().sum()"
      ],
      "execution_count": 5,
      "outputs": [
        {
          "output_type": "execute_result",
          "data": {
            "text/plain": [
              "X1    0\n",
              "X2    0\n",
              "X3    0\n",
              "X4    0\n",
              "X5    0\n",
              "X6    0\n",
              "X7    0\n",
              "X8    0\n",
              "Y1    0\n",
              "dtype: int64"
            ]
          },
          "metadata": {
            "tags": []
          },
          "execution_count": 5
        }
      ]
    },
    {
      "cell_type": "code",
      "metadata": {
        "colab": {
          "base_uri": "https://localhost:8080/"
        },
        "id": "JVbh5rmCKJh1",
        "outputId": "3b7d05d0-f72a-4e16-aff1-a6403389b6cb"
      },
      "source": [
        "#show the data size\n",
        "print('dataset size =', df.size)"
      ],
      "execution_count": 6,
      "outputs": [
        {
          "output_type": "stream",
          "text": [
            "dataset size = 6912\n"
          ],
          "name": "stdout"
        }
      ]
    },
    {
      "cell_type": "code",
      "metadata": {
        "colab": {
          "base_uri": "https://localhost:8080/"
        },
        "id": "T8M8hyReRMNR",
        "outputId": "e88e97ee-cfed-4c69-c170-b9bffb625df9"
      },
      "source": [
        "#show the number of records\n",
        "print('the number of records =', len(df))"
      ],
      "execution_count": 7,
      "outputs": [
        {
          "output_type": "stream",
          "text": [
            "the number of records = 768\n"
          ],
          "name": "stdout"
        }
      ]
    },
    {
      "cell_type": "code",
      "metadata": {
        "colab": {
          "base_uri": "https://localhost:8080/"
        },
        "id": "P6YvVD7tINnR",
        "outputId": "2e7d30bd-8c6c-40d4-8c5d-6f195c3dd17f"
      },
      "source": [
        "#show the number of features\n",
        "print('the number of features =', len(df.columns)-1)"
      ],
      "execution_count": 8,
      "outputs": [
        {
          "output_type": "stream",
          "text": [
            "the number of features = 8\n"
          ],
          "name": "stdout"
        }
      ]
    },
    {
      "cell_type": "code",
      "metadata": {
        "colab": {
          "base_uri": "https://localhost:8080/",
          "height": 213
        },
        "id": "OmHMglJ23WSJ",
        "outputId": "94d91bb3-fb7b-4a3d-cb8f-d3cb981885df"
      },
      "source": [
        "#show the description of features\n",
        "\n",
        "df_with_description = df.copy()\n",
        "df_with_description = df_with_description.rename(columns = {'X1' : 'Relative Compactness'})\n",
        "df_with_description = df_with_description.rename(columns = {'X2' : 'Surface Area'})\n",
        "df_with_description = df_with_description.rename(columns = {'X3' : 'Wall Area'})\n",
        "df_with_description = df_with_description.rename(columns = {'X4' : 'Roof Area'})\n",
        "df_with_description = df_with_description.rename(columns = {'X5' : 'Overall Height'})\n",
        "df_with_description = df_with_description.rename(columns = {'X6' : 'Orientation'})\n",
        "df_with_description = df_with_description.rename(columns = {'X7' : 'Glazing Area'})\n",
        "df_with_description = df_with_description.rename(columns = {'X8' : 'Glazing Area Distribution'})\n",
        "df_with_description = df_with_description.rename(columns = {'Y1' : 'Heating Load'})\n",
        "\n",
        "df_with_description.head()"
      ],
      "execution_count": 9,
      "outputs": [
        {
          "output_type": "execute_result",
          "data": {
            "text/html": [
              "<div>\n",
              "<style scoped>\n",
              "    .dataframe tbody tr th:only-of-type {\n",
              "        vertical-align: middle;\n",
              "    }\n",
              "\n",
              "    .dataframe tbody tr th {\n",
              "        vertical-align: top;\n",
              "    }\n",
              "\n",
              "    .dataframe thead th {\n",
              "        text-align: right;\n",
              "    }\n",
              "</style>\n",
              "<table border=\"1\" class=\"dataframe\">\n",
              "  <thead>\n",
              "    <tr style=\"text-align: right;\">\n",
              "      <th></th>\n",
              "      <th>Relative Compactness</th>\n",
              "      <th>Surface Area</th>\n",
              "      <th>Wall Area</th>\n",
              "      <th>Roof Area</th>\n",
              "      <th>Overall Height</th>\n",
              "      <th>Orientation</th>\n",
              "      <th>Glazing Area</th>\n",
              "      <th>Glazing Area Distribution</th>\n",
              "      <th>Heating Load</th>\n",
              "    </tr>\n",
              "  </thead>\n",
              "  <tbody>\n",
              "    <tr>\n",
              "      <th>0</th>\n",
              "      <td>0.98</td>\n",
              "      <td>514.5</td>\n",
              "      <td>294.0</td>\n",
              "      <td>110.25</td>\n",
              "      <td>7.0</td>\n",
              "      <td>2</td>\n",
              "      <td>0.0</td>\n",
              "      <td>0</td>\n",
              "      <td>15.55</td>\n",
              "    </tr>\n",
              "    <tr>\n",
              "      <th>1</th>\n",
              "      <td>0.98</td>\n",
              "      <td>514.5</td>\n",
              "      <td>294.0</td>\n",
              "      <td>110.25</td>\n",
              "      <td>7.0</td>\n",
              "      <td>3</td>\n",
              "      <td>0.0</td>\n",
              "      <td>0</td>\n",
              "      <td>15.55</td>\n",
              "    </tr>\n",
              "    <tr>\n",
              "      <th>2</th>\n",
              "      <td>0.98</td>\n",
              "      <td>514.5</td>\n",
              "      <td>294.0</td>\n",
              "      <td>110.25</td>\n",
              "      <td>7.0</td>\n",
              "      <td>4</td>\n",
              "      <td>0.0</td>\n",
              "      <td>0</td>\n",
              "      <td>15.55</td>\n",
              "    </tr>\n",
              "    <tr>\n",
              "      <th>3</th>\n",
              "      <td>0.98</td>\n",
              "      <td>514.5</td>\n",
              "      <td>294.0</td>\n",
              "      <td>110.25</td>\n",
              "      <td>7.0</td>\n",
              "      <td>5</td>\n",
              "      <td>0.0</td>\n",
              "      <td>0</td>\n",
              "      <td>15.55</td>\n",
              "    </tr>\n",
              "    <tr>\n",
              "      <th>4</th>\n",
              "      <td>0.90</td>\n",
              "      <td>563.5</td>\n",
              "      <td>318.5</td>\n",
              "      <td>122.50</td>\n",
              "      <td>7.0</td>\n",
              "      <td>2</td>\n",
              "      <td>0.0</td>\n",
              "      <td>0</td>\n",
              "      <td>20.84</td>\n",
              "    </tr>\n",
              "  </tbody>\n",
              "</table>\n",
              "</div>"
            ],
            "text/plain": [
              "   Relative Compactness  Surface Area  ...  Glazing Area Distribution  Heating Load\n",
              "0                  0.98         514.5  ...                          0         15.55\n",
              "1                  0.98         514.5  ...                          0         15.55\n",
              "2                  0.98         514.5  ...                          0         15.55\n",
              "3                  0.98         514.5  ...                          0         15.55\n",
              "4                  0.90         563.5  ...                          0         20.84\n",
              "\n",
              "[5 rows x 9 columns]"
            ]
          },
          "metadata": {
            "tags": []
          },
          "execution_count": 9
        }
      ]
    },
    {
      "cell_type": "code",
      "metadata": {
        "colab": {
          "base_uri": "https://localhost:8080/",
          "height": 196
        },
        "id": "ksRmMK92Iclf",
        "outputId": "e2d17f94-39da-400f-f9be-577fa4f38632"
      },
      "source": [
        "#prepare the features in a separate dataframe called xf\n",
        "xf = df.drop(columns = ['Y1'])\n",
        "xf.head()"
      ],
      "execution_count": 10,
      "outputs": [
        {
          "output_type": "execute_result",
          "data": {
            "text/html": [
              "<div>\n",
              "<style scoped>\n",
              "    .dataframe tbody tr th:only-of-type {\n",
              "        vertical-align: middle;\n",
              "    }\n",
              "\n",
              "    .dataframe tbody tr th {\n",
              "        vertical-align: top;\n",
              "    }\n",
              "\n",
              "    .dataframe thead th {\n",
              "        text-align: right;\n",
              "    }\n",
              "</style>\n",
              "<table border=\"1\" class=\"dataframe\">\n",
              "  <thead>\n",
              "    <tr style=\"text-align: right;\">\n",
              "      <th></th>\n",
              "      <th>X1</th>\n",
              "      <th>X2</th>\n",
              "      <th>X3</th>\n",
              "      <th>X4</th>\n",
              "      <th>X5</th>\n",
              "      <th>X6</th>\n",
              "      <th>X7</th>\n",
              "      <th>X8</th>\n",
              "    </tr>\n",
              "  </thead>\n",
              "  <tbody>\n",
              "    <tr>\n",
              "      <th>0</th>\n",
              "      <td>0.98</td>\n",
              "      <td>514.5</td>\n",
              "      <td>294.0</td>\n",
              "      <td>110.25</td>\n",
              "      <td>7.0</td>\n",
              "      <td>2</td>\n",
              "      <td>0.0</td>\n",
              "      <td>0</td>\n",
              "    </tr>\n",
              "    <tr>\n",
              "      <th>1</th>\n",
              "      <td>0.98</td>\n",
              "      <td>514.5</td>\n",
              "      <td>294.0</td>\n",
              "      <td>110.25</td>\n",
              "      <td>7.0</td>\n",
              "      <td>3</td>\n",
              "      <td>0.0</td>\n",
              "      <td>0</td>\n",
              "    </tr>\n",
              "    <tr>\n",
              "      <th>2</th>\n",
              "      <td>0.98</td>\n",
              "      <td>514.5</td>\n",
              "      <td>294.0</td>\n",
              "      <td>110.25</td>\n",
              "      <td>7.0</td>\n",
              "      <td>4</td>\n",
              "      <td>0.0</td>\n",
              "      <td>0</td>\n",
              "    </tr>\n",
              "    <tr>\n",
              "      <th>3</th>\n",
              "      <td>0.98</td>\n",
              "      <td>514.5</td>\n",
              "      <td>294.0</td>\n",
              "      <td>110.25</td>\n",
              "      <td>7.0</td>\n",
              "      <td>5</td>\n",
              "      <td>0.0</td>\n",
              "      <td>0</td>\n",
              "    </tr>\n",
              "    <tr>\n",
              "      <th>4</th>\n",
              "      <td>0.90</td>\n",
              "      <td>563.5</td>\n",
              "      <td>318.5</td>\n",
              "      <td>122.50</td>\n",
              "      <td>7.0</td>\n",
              "      <td>2</td>\n",
              "      <td>0.0</td>\n",
              "      <td>0</td>\n",
              "    </tr>\n",
              "  </tbody>\n",
              "</table>\n",
              "</div>"
            ],
            "text/plain": [
              "     X1     X2     X3      X4   X5  X6   X7  X8\n",
              "0  0.98  514.5  294.0  110.25  7.0   2  0.0   0\n",
              "1  0.98  514.5  294.0  110.25  7.0   3  0.0   0\n",
              "2  0.98  514.5  294.0  110.25  7.0   4  0.0   0\n",
              "3  0.98  514.5  294.0  110.25  7.0   5  0.0   0\n",
              "4  0.90  563.5  318.5  122.50  7.0   2  0.0   0"
            ]
          },
          "metadata": {
            "tags": []
          },
          "execution_count": 10
        }
      ]
    },
    {
      "cell_type": "code",
      "metadata": {
        "id": "B5W-DacnJLy7",
        "colab": {
          "base_uri": "https://localhost:8080/"
        },
        "outputId": "64e27fd7-6348-46ff-b688-504ab12a2360"
      },
      "source": [
        "#prepare the response variable in a separate column called yf\n",
        "yf = df['Y1']\n",
        "yf.head()"
      ],
      "execution_count": 11,
      "outputs": [
        {
          "output_type": "execute_result",
          "data": {
            "text/plain": [
              "0    15.55\n",
              "1    15.55\n",
              "2    15.55\n",
              "3    15.55\n",
              "4    20.84\n",
              "Name: Y1, dtype: float64"
            ]
          },
          "metadata": {
            "tags": []
          },
          "execution_count": 11
        }
      ]
    },
    {
      "cell_type": "code",
      "metadata": {
        "id": "dNFrJYFX7I0H"
      },
      "source": [
        "#divide the dataset into training set (80%) and testing set (20%)\n",
        "from sklearn.model_selection import train_test_split   #to divide the dataset \n",
        "X_train, X_test, y_train, y_test = train_test_split(xf, yf, test_size=0.2, random_state=1)"
      ],
      "execution_count": 12,
      "outputs": []
    },
    {
      "cell_type": "code",
      "metadata": {
        "id": "izf-9VEhXXc5"
      },
      "source": [
        "#to apply the cross validation \n",
        "from sklearn.model_selection import cross_val_score\n",
        "#to apply the k division  \n",
        "from sklearn.model_selection import KFold \n",
        "\n",
        "#cross validation model\n",
        "Cross_Val_10 = KFold(n_splits=10, random_state=1, shuffle=True)"
      ],
      "execution_count": 13,
      "outputs": []
    },
    {
      "cell_type": "markdown",
      "metadata": {
        "id": "1IPnRjYFqZ-k"
      },
      "source": [
        "# Linear Regression"
      ]
    },
    {
      "cell_type": "markdown",
      "metadata": {
        "id": "Xp5dOCXBq8xD"
      },
      "source": [
        "LinearRegression(*, fit_intercept=True, normalize=False, copy_X=True n_jobs=None, positive=False)\n",
        "\n",
        "link: https://scikit-learn.org/stable/modules/generated/sklearn.linear_model.LinearRegression.html\n",
        "\n"
      ]
    },
    {
      "cell_type": "markdown",
      "metadata": {
        "id": "_Cx9FO9aMoSG"
      },
      "source": [
        "## importing the libraries and starting the implementation time"
      ]
    },
    {
      "cell_type": "code",
      "metadata": {
        "id": "wRECtpqhMZYj"
      },
      "source": [
        "#to use linear regression model\n",
        "from sklearn.linear_model import LinearRegression\n",
        "\n",
        "#start the implementation time measuring\n",
        "tic_st_imp_LR = time.perf_counter() "
      ],
      "execution_count": 14,
      "outputs": []
    },
    {
      "cell_type": "markdown",
      "metadata": {
        "id": "mz2fraXbMwhE"
      },
      "source": [
        "## Choosing Parameters"
      ]
    },
    {
      "cell_type": "markdown",
      "metadata": {
        "id": "7kLBnwPrM0vg"
      },
      "source": [
        "As there is no parameters that affect the quality of the linear regression model, this step was skipped"
      ]
    },
    {
      "cell_type": "markdown",
      "metadata": {
        "id": "QIEAkVH3MkL_"
      },
      "source": [
        "## Linear Regression Final Model"
      ]
    },
    {
      "cell_type": "code",
      "metadata": {
        "colab": {
          "base_uri": "https://localhost:8080/"
        },
        "id": "reuBha83n87T",
        "outputId": "f8a211f7-c396-4ee2-e3f3-17c0716c4f24"
      },
      "source": [
        "Linear_Regression_Model = LinearRegression()\n",
        "\n",
        "#start the fitting time measuring\n",
        "tic_st_fit_LR = time.perf_counter()\n",
        "\n",
        "Linear_Regression_Scores = cross_val_score(Linear_Regression_Model, X_train, y_train, cv=Cross_Val_10)\n",
        "\n",
        "#end the fitting time measuring\n",
        "tic_en_fit_LR = time.perf_counter()\n",
        "\n",
        "#end the implementation time measuring\n",
        "tic_en_imp_LR = time.perf_counter()\n",
        "\n",
        "fitting_time_LR = tic_en_fit_LR - tic_st_fit_LR\n",
        "implementation_time_LR = tic_en_imp_LR - tic_st_imp_LR\n",
        "performance_LR =  Linear_Regression_Scores.mean()\n",
        "\n",
        "print('Total implementation time of Linear Regression: ', implementation_time_LR)\n",
        "print('Total fitting time of Linear Regression: ', fitting_time_LR)\n",
        "print('Performance of Linear Regression: ', performance_LR)"
      ],
      "execution_count": 15,
      "outputs": [
        {
          "output_type": "stream",
          "text": [
            "Total implementation time of Linear Regression:  0.060522839999975986\n",
            "Total fitting time of Linear Regression:  0.03740239000035217\n",
            "Performance of Linear Regression:  0.9177663224666542\n"
          ],
          "name": "stdout"
        }
      ]
    },
    {
      "cell_type": "markdown",
      "metadata": {
        "id": "Q5AtxTLIqrO8"
      },
      "source": [
        "# K-Nearest Neighbors Regression"
      ]
    },
    {
      "cell_type": "markdown",
      "metadata": {
        "id": "whr4RGzd-VCI"
      },
      "source": [
        "KNeighborsClassifier(n_neighbors=5, *, weights='uniform', algorithm='auto', leaf_size=30, p=2, metric='minkowski', metric_params=None, n_jobs=None, **kwargs)\n",
        "\n",
        "link: https://scikit-learn.org/stable/modules/generated/sklearn.neighbors.KNeighborsClassifier.html"
      ]
    },
    {
      "cell_type": "markdown",
      "metadata": {
        "id": "_BB3ESsoQG8M"
      },
      "source": [
        "## importing the libraries and starting the implementation time"
      ]
    },
    {
      "cell_type": "code",
      "metadata": {
        "id": "39CqFU4EQG8R"
      },
      "source": [
        "#to use random forest knn model\n",
        "from sklearn import neighbors\n",
        "\n",
        "#start the implementation time measuring\n",
        "tic_st_imp_KNN = time.perf_counter() "
      ],
      "execution_count": 16,
      "outputs": []
    },
    {
      "cell_type": "markdown",
      "metadata": {
        "id": "5K40_UBzRChx"
      },
      "source": [
        "## Choosing Parameters"
      ]
    },
    {
      "cell_type": "markdown",
      "metadata": {
        "id": "1vqs8MKrKPh7"
      },
      "source": [
        "### **Choosing K**"
      ]
    },
    {
      "cell_type": "code",
      "metadata": {
        "id": "Ulo0075Phams"
      },
      "source": [
        "K_Neighbors = []\n",
        "K_Neighbors_time = []\n",
        "K_Neighbors_Mean = []\n",
        "\n",
        "for x in range(1, int(9*len(X_train)/10), 10):\n",
        "  KNNx =neighbors.KNeighborsRegressor(n_neighbors = x, weights='uniform')\n",
        "  st_speed_x = time.perf_counter()\n",
        "  KNNx_Scores = cross_val_score(KNNx, X_train, y_train, cv=Cross_Val_10)\n",
        "  en_speed_x = time.perf_counter()\n",
        "  K_Neighbors.append(x)\n",
        "  K_Neighbors_time.append(en_speed_x - st_speed_x)\n",
        "  K_Neighbors_Mean.append(KNNx_Scores.mean())"
      ],
      "execution_count": 17,
      "outputs": []
    },
    {
      "cell_type": "code",
      "metadata": {
        "id": "CmqBjI7ehtLJ",
        "colab": {
          "base_uri": "https://localhost:8080/",
          "height": 0
        },
        "outputId": "e94c89b8-bfc1-4f4b-b391-6f0f16e9aa7c"
      },
      "source": [
        "plt.plot(K_Neighbors, K_Neighbors_time)\n",
        "plt.xlabel('K_Neighbors') \n",
        "plt.ylabel('K_Neighbors_time') \n",
        "plt.title('Time Change according to K_Neighbors change') \n",
        "plt.show()"
      ],
      "execution_count": 18,
      "outputs": [
        {
          "output_type": "display_data",
          "data": {
            "image/png": "[encoded data removed]",
            "text/plain": [
              "<Figure size 432x288 with 1 Axes>"
            ]
          },
          "metadata": {
            "tags": [],
            "needs_background": "light"
          }
        }
      ]
    },
    {
      "cell_type": "code",
      "metadata": {
        "colab": {
          "base_uri": "https://localhost:8080/",
          "height": 0
        },
        "id": "loJwV6INGSrC",
        "outputId": "b10364d5-4cf0-4251-ef91-349cfe4ee3d3"
      },
      "source": [
        "plt.plot(K_Neighbors, K_Neighbors_Mean)\n",
        "plt.xlabel('K_Neighbors') \n",
        "plt.ylabel('K_Neighbors_Mean') \n",
        "plt.title('Performance Change according to K_Neighbors change')  \n",
        "plt.show()"
      ],
      "execution_count": 19,
      "outputs": [
        {
          "output_type": "display_data",
          "data": {
            "image/png": "[encoded data removed]",
            "text/plain": [
              "<Figure size 432x288 with 1 Axes>"
            ]
          },
          "metadata": {
            "tags": [],
            "needs_background": "light"
          }
        }
      ]
    },
    {
      "cell_type": "code",
      "metadata": {
        "colab": {
          "base_uri": "https://localhost:8080/"
        },
        "id": "UVco5r_7HScS",
        "outputId": "1648b406-c754-4344-929a-df81be2abdc8"
      },
      "source": [
        "best_k_index = K_Neighbors_Mean.index(max(K_Neighbors_Mean))\n",
        "best_k= K_Neighbors[best_k_index]\n",
        "best_k_fitting_time = K_Neighbors_time[best_k_index]\n",
        "best_k_performance = K_Neighbors_Mean[best_k_index]\n",
        "\n",
        "print('best_k =', best_k)\n",
        "print('with performance=', best_k_performance)\n",
        "print('and time=', best_k_fitting_time)"
      ],
      "execution_count": 20,
      "outputs": [
        {
          "output_type": "stream",
          "text": [
            "best_k = 11\n",
            "with performance= 0.9235221657202514\n",
            "and time= 0.04494136699941009\n"
          ],
          "name": "stdout"
        }
      ]
    },
    {
      "cell_type": "markdown",
      "metadata": {
        "id": "0f8HPDBiKd7R"
      },
      "source": [
        "### **Choosing weight method**"
      ]
    },
    {
      "cell_type": "code",
      "metadata": {
        "id": "hCXVPpcyJGjm",
        "colab": {
          "base_uri": "https://localhost:8080/"
        },
        "outputId": "96b31d82-0dbe-41cf-c478-1d2679f46ef3"
      },
      "source": [
        "KNN_uniform =neighbors.KNeighborsRegressor(n_neighbors = best_k, weights='uniform')\n",
        "tic = time.perf_counter()\n",
        "KNN_uniform_Scores = cross_val_score(KNN_uniform, X_train, y_train, cv=Cross_Val_10)\n",
        "toc = time.perf_counter()\n",
        "print('Total fitting time of KNN Regression with uniform weight: ',toc - tic)\n",
        "print('Performance of KNN Regression with uniform weight: ', KNN_uniform_Scores.mean())\n",
        "\n",
        "KNN_distance =neighbors.KNeighborsRegressor(n_neighbors = best_k, weights='distance')\n",
        "tic = time.perf_counter()\n",
        "KNN_distance_Scores = cross_val_score(KNN_distance, X_train, y_train, cv=Cross_Val_10)\n",
        "toc = time.perf_counter()\n",
        "print('Total fitting time of KNN Regression with distance weight: ',toc - tic)\n",
        "print('Performance of KNN Regression with distance weight: ', KNN_distance_Scores.mean())"
      ],
      "execution_count": 21,
      "outputs": [
        {
          "output_type": "stream",
          "text": [
            "Total fitting time of KNN Regression with uniform weight:  0.06357196599856252\n",
            "Performance of KNN Regression with uniform weight:  0.9235221657202514\n",
            "Total fitting time of KNN Regression with distance weight:  0.04638800199973048\n",
            "Performance of KNN Regression with distance weight:  0.9139946074096349\n"
          ],
          "name": "stdout"
        }
      ]
    },
    {
      "cell_type": "markdown",
      "metadata": {
        "id": "OoNkm1vcMYx8"
      },
      "source": [
        "## Knn Final Model"
      ]
    },
    {
      "cell_type": "code",
      "metadata": {
        "colab": {
          "base_uri": "https://localhost:8080/"
        },
        "id": "WpAAIDtRKrTb",
        "outputId": "3a7e47f0-29e5-42a0-deae-8c1ed1dbecec"
      },
      "source": [
        "Knn_Model = neighbors.KNeighborsRegressor(n_neighbors = best_k, weights='uniform')\n",
        "\n",
        "#start the fitting time measuring\n",
        "tic_st_fit_KNN = time.perf_counter()\n",
        "\n",
        "KNN_Regression_Scores = cross_val_score(Knn_Model, X_train, y_train, cv=Cross_Val_10)\n",
        "\n",
        "#end the fitting time measuring\n",
        "tic_en_fit_KNN = time.perf_counter()\n",
        "\n",
        "#end the implementation time measuring\n",
        "tic_en_imp_KNN = time.perf_counter()\n",
        "\n",
        "\n",
        "fitting_time_KNN = tic_en_fit_KNN - tic_st_fit_KNN\n",
        "implementation_time_KNN = tic_en_imp_KNN - tic_st_imp_KNN\n",
        "performance_KNN =  KNN_Regression_Scores.mean()\n",
        "\n",
        "print('Total implementation time of K-Nearest Neighbors Regression: ', implementation_time_KNN)\n",
        "print('Total fitting time of K-Nearest Neighbors Regression: ', fitting_time_KNN)\n",
        "print('Performance of K-Nearest Neighbors Regression: ', performance_KNN)\n"
      ],
      "execution_count": 22,
      "outputs": [
        {
          "output_type": "stream",
          "text": [
            "Total implementation time of K-Nearest Neighbors Regression:  4.811596425999596\n",
            "Total fitting time of K-Nearest Neighbors Regression:  0.05450925900004222\n",
            "Performance of K-Nearest Neighbors Regression:  0.9235221657202514\n"
          ],
          "name": "stdout"
        }
      ]
    },
    {
      "cell_type": "markdown",
      "metadata": {
        "id": "c9cm1P4Eqm-L"
      },
      "source": [
        "# Random Forest Regression"
      ]
    },
    {
      "cell_type": "markdown",
      "metadata": {
        "id": "CXGx9iGjtMCH"
      },
      "source": [
        "RandomForestRegressor(n_estimators=100, *, criterion='mse', max_depth=None, min_samples_split=2, min_samples_leaf=1, min_weight_fraction_leaf=0.0, max_features='auto', max_leaf_nodes=None, min_impurity_decrease=0.0, min_impurity_split=None, bootstrap=True, oob_score=False, n_jobs=None, random_state=None, verbose=0, warm_start=False, ccp_alpha=0.0, max_samples=None)\n",
        "\n",
        "Link: https://scikit-learn.org/stable/modules/generated/sklearn.ensemble.RandomForestRegressor.html"
      ]
    },
    {
      "cell_type": "markdown",
      "metadata": {
        "id": "gwZEicXfNP91"
      },
      "source": [
        "## importing the libraries and starting the implementation time"
      ]
    },
    {
      "cell_type": "code",
      "metadata": {
        "id": "K0OylrLeNOwf"
      },
      "source": [
        "#to use random forest regression model\n",
        "from sklearn.ensemble import RandomForestRegressor\n",
        "\n",
        "#start the implementation time measuring\n",
        "tic_st_imp_RF = time.perf_counter() "
      ],
      "execution_count": 23,
      "outputs": []
    },
    {
      "cell_type": "markdown",
      "metadata": {
        "id": "H2_OatdVQU4w"
      },
      "source": [
        "## Choosing Parameters"
      ]
    },
    {
      "cell_type": "markdown",
      "metadata": {
        "id": "QUim8TMp5A9Z"
      },
      "source": [
        "### **N-estimators parameter**"
      ]
    },
    {
      "cell_type": "markdown",
      "metadata": {
        "id": "c-J8KarpNZeA"
      },
      "source": [
        "Choosing the number of trees. In this section, we will try different number of n-estimators and compare between thier speed and performance "
      ]
    },
    {
      "cell_type": "code",
      "metadata": {
        "id": "MesTwCfmZDKR"
      },
      "source": [
        "N_est_time = []\n",
        "N_est_Mean = []\n",
        "N_est = []\n",
        "\n",
        "for x in range(1, 15):\n",
        "  RFx = RandomForestRegressor(n_estimators=x)\n",
        "  st_speed_x = time.perf_counter()\n",
        "  RFx_Scores = cross_val_score(RFx, X_train, y_train, cv=Cross_Val_10)\n",
        "  en_speed_x = time.perf_counter()\n",
        "  N_est.append(x)\n",
        "  N_est_time.append(en_speed_x - st_speed_x)\n",
        "  N_est_Mean.append(RFx_Scores.mean())"
      ],
      "execution_count": 24,
      "outputs": []
    },
    {
      "cell_type": "code",
      "metadata": {
        "colab": {
          "base_uri": "https://localhost:8080/",
          "height": 296
        },
        "id": "-ynL9pUE0k9w",
        "outputId": "4b4222e7-61c2-4102-96ad-def4ba8dd449"
      },
      "source": [
        "plt.plot(N_est, N_est_time)\n",
        "plt.xlabel('N_est') \n",
        "plt.ylabel('N_est_Time') \n",
        "plt.title('Time Change according to N_estimators change') \n",
        "plt.show()"
      ],
      "execution_count": 25,
      "outputs": [
        {
          "output_type": "display_data",
          "data": {
            "image/png": "[encoded data removed]",
            "text/plain": [
              "<Figure size 432x288 with 1 Axes>"
            ]
          },
          "metadata": {
            "tags": [],
            "needs_background": "light"
          }
        }
      ]
    },
    {
      "cell_type": "code",
      "metadata": {
        "colab": {
          "base_uri": "https://localhost:8080/",
          "height": 296
        },
        "id": "051yfSDz2YCp",
        "outputId": "3dcae837-4cb8-4866-b64c-7011d227de22"
      },
      "source": [
        "plt.plot(N_est, N_est_Mean)\n",
        "plt.xlabel('N_est') \n",
        "plt.ylabel('N_est_Mean') \n",
        "plt.title('Performance Change according to N_estimators change')  \n",
        "plt.show()"
      ],
      "execution_count": 26,
      "outputs": [
        {
          "output_type": "display_data",
          "data": {
            "image/png": "[encoded data removed]",
            "text/plain": [
              "<Figure size 432x288 with 1 Axes>"
            ]
          },
          "metadata": {
            "tags": [],
            "needs_background": "light"
          }
        }
      ]
    },
    {
      "cell_type": "markdown",
      "metadata": {
        "id": "nwShSgvv5JFO"
      },
      "source": [
        "### **Error Criterion Parameter**"
      ]
    },
    {
      "cell_type": "markdown",
      "metadata": {
        "id": "DhlNyNvw5Qgc"
      },
      "source": [
        "We have two criteria to apply, either (mae) Mean absolute error or (mse) Mean Squared error.  "
      ]
    },
    {
      "cell_type": "code",
      "metadata": {
        "colab": {
          "base_uri": "https://localhost:8080/"
        },
        "id": "6wxsx1X1x3Je",
        "outputId": "a9a98fff-fb70-4cb0-fdfd-b946cdd26aed"
      },
      "source": [
        "Random_Forest_Model_mae = RandomForestRegressor(n_estimators=5, criterion='mae')\n",
        "tic = time.perf_counter()\n",
        "Random_Forest_Scores_mae = cross_val_score(Random_Forest_Model_mae, X_train, y_train, cv=Cross_Val_10)\n",
        "toc = time.perf_counter()\n",
        "print('Total fitting time of Random Forest Regression with mae: ',toc - tic)\n",
        "print('Performance of Random Forest Regression with mae: ', Random_Forest_Scores_mae.mean())\n",
        "\n",
        "Random_Forest_Model_mse = RandomForestRegressor(n_estimators=5, criterion='mse')\n",
        "tic = time.perf_counter()\n",
        "Random_Forest_Scores_mse = cross_val_score(Random_Forest_Model_mse, X_train, y_train, cv=Cross_Val_10)\n",
        "toc = time.perf_counter()\n",
        "print('Total fitting time of Random Forest Regression with mse: ',toc - tic)\n",
        "print('Performance of Random Forest Regression with mse: ', Random_Forest_Scores_mse.mean())\n"
      ],
      "execution_count": 27,
      "outputs": [
        {
          "output_type": "stream",
          "text": [
            "Total fitting time of Random Forest Regression with mae:  0.4303637939992768\n",
            "Performance of Random Forest Regression with mae:  0.9967996541508676\n",
            "Total fitting time of Random Forest Regression with mse:  0.14260030200057372\n",
            "Performance of Random Forest Regression with mse:  0.9966599242274935\n"
          ],
          "name": "stdout"
        }
      ]
    },
    {
      "cell_type": "markdown",
      "metadata": {
        "id": "s7Afaa9ZMeGL"
      },
      "source": [
        "## Random Forest Final Model"
      ]
    },
    {
      "cell_type": "code",
      "metadata": {
        "colab": {
          "base_uri": "https://localhost:8080/"
        },
        "id": "dcP-JovN9xja",
        "outputId": "1c111fe6-0722-43bf-c607-2ccf7c68275a"
      },
      "source": [
        "Random_Forest_Model = RandomForestRegressor(n_estimators=5, criterion='mse')\n",
        "\n",
        "#start the fitting time measuring\n",
        "tic_st_fit_RF = time.perf_counter()\n",
        "\n",
        "Random_Forest_Regression_Scores = cross_val_score(Random_Forest_Model, X_train, y_train, cv=Cross_Val_10)\n",
        "\n",
        "#end the fitting time measuring\n",
        "tic_en_fit_RF = time.perf_counter()\n",
        "\n",
        "#end the implementation time measuring\n",
        "tic_en_imp_RF = time.perf_counter()\n",
        "\n",
        "fitting_time_RF = tic_en_fit_RF - tic_st_fit_RF\n",
        "implementation_time_RF = tic_en_imp_RF - tic_st_imp_RF\n",
        "performance_RF =  Random_Forest_Regression_Scores.mean()\n",
        "\n",
        "print('Total implementation time of Random Forest Regression: ', implementation_time_RF)\n",
        "print('Total fitting time of Random Forest Regression: ', fitting_time_RF)\n",
        "print('Performance of Random Forest Regression: ', performance_RF)\n",
        "\n"
      ],
      "execution_count": 28,
      "outputs": [
        {
          "output_type": "stream",
          "text": [
            "Total implementation time of Random Forest Regression:  3.8326770149997174\n",
            "Total fitting time of Random Forest Regression:  0.15087979300005827\n",
            "Performance of Random Forest Regression:  0.9964036217143832\n"
          ],
          "name": "stdout"
        }
      ]
    },
    {
      "cell_type": "markdown",
      "metadata": {
        "id": "4T4ZpPryOorB"
      },
      "source": [
        "# Choosing Best Model"
      ]
    },
    {
      "cell_type": "markdown",
      "metadata": {
        "id": "Ooyvf1MFUZYe"
      },
      "source": [
        "## Comparison between models"
      ]
    },
    {
      "cell_type": "code",
      "metadata": {
        "colab": {
          "base_uri": "https://localhost:8080/",
          "height": 137
        },
        "id": "OBTLltcYUf4x",
        "outputId": "9b85d3c0-0505-4615-da5f-309e4ac7af93"
      },
      "source": [
        "results = {'Parameters' : ['implementation time', 'fitting time', 'performance'],\n",
        "           'Linear Regression' : [implementation_time_LR, fitting_time_LR, performance_LR],\n",
        "           'Random Forest Regression' : [implementation_time_RF, fitting_time_RF, performance_RF],\n",
        "           'K-Nearest Neighbors Regression' : [implementation_time_KNN, fitting_time_KNN, performance_KNN]}\n",
        "results_df = pd.DataFrame(results, columns = ['Parameters', 'Linear Regression', 'Random Forest Regression',\n",
        "                                              'K-Nearest Neighbors Regression'])\n",
        "\n",
        "\n",
        "results = {'Models' : ['Linear Regression', 'Random Forest Regression', 'K-Nearest Neighbors Regression'],\n",
        "           'implementation time' : [implementation_time_LR, implementation_time_RF, implementation_time_KNN],\n",
        "           'fitting time' : [fitting_time_LR, fitting_time_RF, fitting_time_KNN],\n",
        "           'performance' : [performance_LR, performance_RF, performance_KNN]}\n",
        "results_df = pd.DataFrame(results, columns = ['Models', 'implementation time', 'fitting time', 'performance'])\n",
        "\n",
        "\n",
        "results_df"
      ],
      "execution_count": 29,
      "outputs": [
        {
          "output_type": "execute_result",
          "data": {
            "text/html": [
              "<div>\n",
              "<style scoped>\n",
              "    .dataframe tbody tr th:only-of-type {\n",
              "        vertical-align: middle;\n",
              "    }\n",
              "\n",
              "    .dataframe tbody tr th {\n",
              "        vertical-align: top;\n",
              "    }\n",
              "\n",
              "    .dataframe thead th {\n",
              "        text-align: right;\n",
              "    }\n",
              "</style>\n",
              "<table border=\"1\" class=\"dataframe\">\n",
              "  <thead>\n",
              "    <tr style=\"text-align: right;\">\n",
              "      <th></th>\n",
              "      <th>Models</th>\n",
              "      <th>implementation time</th>\n",
              "      <th>fitting time</th>\n",
              "      <th>performance</th>\n",
              "    </tr>\n",
              "  </thead>\n",
              "  <tbody>\n",
              "    <tr>\n",
              "      <th>0</th>\n",
              "      <td>Linear Regression</td>\n",
              "      <td>0.060523</td>\n",
              "      <td>0.037402</td>\n",
              "      <td>0.917766</td>\n",
              "    </tr>\n",
              "    <tr>\n",
              "      <th>1</th>\n",
              "      <td>Random Forest Regression</td>\n",
              "      <td>3.832677</td>\n",
              "      <td>0.150880</td>\n",
              "      <td>0.996404</td>\n",
              "    </tr>\n",
              "    <tr>\n",
              "      <th>2</th>\n",
              "      <td>K-Nearest Neighbors Regression</td>\n",
              "      <td>4.811596</td>\n",
              "      <td>0.054509</td>\n",
              "      <td>0.923522</td>\n",
              "    </tr>\n",
              "  </tbody>\n",
              "</table>\n",
              "</div>"
            ],
            "text/plain": [
              "                           Models  ...  performance\n",
              "0               Linear Regression  ...     0.917766\n",
              "1        Random Forest Regression  ...     0.996404\n",
              "2  K-Nearest Neighbors Regression  ...     0.923522\n",
              "\n",
              "[3 rows x 4 columns]"
            ]
          },
          "metadata": {
            "tags": []
          },
          "execution_count": 29
        }
      ]
    },
    {
      "cell_type": "markdown",
      "metadata": {
        "id": "wd-fih48OyNg"
      },
      "source": [
        "## Considering Linear Regression Model as the best model"
      ]
    },
    {
      "cell_type": "code",
      "metadata": {
        "colab": {
          "base_uri": "https://localhost:8080/"
        },
        "id": "Ez4kgOehOt6H",
        "outputId": "620f2f39-d4e9-4dfb-b1eb-2b91fee32edc"
      },
      "source": [
        "from sklearn import metrics\n",
        "Linear_Regression_Model.fit(X_test, y_test)\n",
        "y_test_pred = Linear_Regression_Model.predict(X_test)\n",
        "print('Test MSE: ', metrics.mean_squared_error(y_test, y_test_pred))"
      ],
      "execution_count": 30,
      "outputs": [
        {
          "output_type": "stream",
          "text": [
            "Test MSE:  9.936294219141887\n"
          ],
          "name": "stdout"
        }
      ]
    },
    {
      "cell_type": "markdown",
      "metadata": {
        "id": "66kD_5W2Qnxw"
      },
      "source": [
        "## Considering K-Nearest Neighbors Regression Model as the best model"
      ]
    },
    {
      "cell_type": "code",
      "metadata": {
        "colab": {
          "base_uri": "https://localhost:8080/"
        },
        "id": "V4ohuLFXQRag",
        "outputId": "c5ce2961-4262-4b38-d4af-6ab2edcd9193"
      },
      "source": [
        "from sklearn import metrics\n",
        "Knn_Model.fit(X_test, y_test)\n",
        "y_test_pred = Knn_Model.predict(X_test)\n",
        "print('Test MSE: ', metrics.mean_squared_error(y_test, y_test_pred))"
      ],
      "execution_count": 31,
      "outputs": [
        {
          "output_type": "stream",
          "text": [
            "Test MSE:  8.719853939036172\n"
          ],
          "name": "stdout"
        }
      ]
    },
    {
      "cell_type": "markdown",
      "metadata": {
        "id": "IgHI6FcqQiQ4"
      },
      "source": [
        "## Considering Random Forest Model as the best model"
      ]
    },
    {
      "cell_type": "code",
      "metadata": {
        "colab": {
          "base_uri": "https://localhost:8080/"
        },
        "id": "FO0bbUuJQIIj",
        "outputId": "d2a6acf2-6f05-4f5a-8672-d284853969f9"
      },
      "source": [
        "from sklearn import metrics\n",
        "Random_Forest_Model.fit(X_test, y_test)\n",
        "y_test_pred = Random_Forest_Model.predict(X_test)\n",
        "print('Test MSE: ', metrics.mean_squared_error(y_test, y_test_pred))"
      ],
      "execution_count": 32,
      "outputs": [
        {
          "output_type": "stream",
          "text": [
            "Test MSE:  0.20435553246753263\n"
          ],
          "name": "stdout"
        }
      ]
    }
  ]
}